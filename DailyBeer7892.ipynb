{
 "cells": [
  {
   "cell_type": "markdown",
   "metadata": {},
   "source": [
    "# DailyBeer 789 "
   ]
  },
  {
   "cell_type": "code",
   "execution_count": 3,
   "metadata": {
    "collapsed": true
   },
   "outputs": [],
   "source": [
    "import sqlite3\n",
    "conn = sqlite3.connect(\"Order789Gsheet.db\")"
   ]
  },
  {
   "cell_type": "code",
   "execution_count": 27,
   "metadata": {},
   "outputs": [
    {
     "data": {
      "text/plain": [
       "<sqlite3.Cursor at 0x10912da40>"
      ]
     },
     "execution_count": 27,
     "metadata": {},
     "output_type": "execute_result"
    }
   ],
   "source": [
    "sql_cmd = \"\"\"\n",
    "select\n",
    "        sku, pname,\n",
    "        month,\n",
    "        '월' as mon,\n",
    "        sum(total) as gtotal,\n",
    "        sum(qty) as qty,\n",
    "        '개' as quantity\n",
    "from order789Gsheet\n",
    "group by sku, month\n",
    "order by sku, month;\n",
    "\"\"\"\n",
    "cursor = conn.cursor()\n",
    "cursor.execute(sql_cmd)"
   ]
  },
  {
   "cell_type": "code",
   "execution_count": 32,
   "metadata": {},
   "outputs": [
    {
     "name": "stdout",
     "output_type": "stream",
     "text": [
      "135267 그라나파다노치즈(포션 200g/EA) 8\n",
      "138389 이츠웰 초고추장(NEW 1Kg/EA) 7\n",
      "138389 이츠웰 초고추장(NEW 1Kg/EA) 8\n",
      "138389 이츠웰 초고추장(NEW 1Kg/EA) 9\n",
      "139476 신영상회 파슬리후레이크(250g/EA) 7\n",
      "140440 심플로트 냉동감자(크링클컷웨지 2.26Kg/EA) 7\n",
      "140440 심플로트 냉동감자(크링클컷웨지 2.26Kg/EA) 8\n",
      "140440 심플로트 냉동감자(크링클컷웨지 2.26Kg/EA) 9\n",
      "143790 이츠웰 참기름(NEW_캔_1L 916g/EA) 수입산-※참깨(베트남산,미얀마산) 9\n",
      "144398 심플로트 냉동감자(세이보리_스트레이트컷 2.26Kg/EA) 7\n",
      "144398 심플로트 냉동감자(세이보리_스트레이트컷 2.26Kg/EA) 8\n"
     ]
    }
   ],
   "source": [
    "i=0\n",
    "for tuple in cursor:\n",
    "#    print tuple\n",
    "    pname = tuple[1].replace(\"\\n\",\"-\")\n",
    "    print tuple[0], pname, tuple[2]\n",
    "    i = i + 1\n",
    "    if i > 10:\n",
    "        break\n",
    "        "
   ]
  },
  {
   "cell_type": "code",
   "execution_count": null,
   "metadata": {
    "collapsed": true
   },
   "outputs": [],
   "source": []
  }
 ],
 "metadata": {
  "kernelspec": {
   "display_name": "Python 2",
   "language": "python",
   "name": "python2"
  },
  "language_info": {
   "codemirror_mode": {
    "name": "ipython",
    "version": 2
   },
   "file_extension": ".py",
   "mimetype": "text/x-python",
   "name": "python",
   "nbconvert_exporter": "python",
   "pygments_lexer": "ipython2",
   "version": "2.7.13"
  }
 },
 "nbformat": 4,
 "nbformat_minor": 2
}
