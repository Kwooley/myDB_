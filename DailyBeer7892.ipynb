{
 "cells": [
  {
   "cell_type": "markdown",
   "metadata": {},
   "source": [
    "# DailyBeer 789 "
   ]
  },
  {
   "cell_type": "code",
   "execution_count": 5,
   "metadata": {
    "collapsed": true
   },
   "outputs": [],
   "source": [
    "import sqlite3\n",
    "conn = sqlite3.connect(\"Order789Gsheet.db\")"
   ]
  },
  {
   "cell_type": "markdown",
   "metadata": {},
   "source": [
    "## Monthly  Outgoing Analysis "
   ]
  },
  {
   "cell_type": "code",
   "execution_count": 49,
   "metadata": {},
   "outputs": [],
   "source": [
    "sql_cmd = \"\"\"\n",
    "select month, sku, pname, sum(total) as gtotal, '원' as won, sum(qty) as qty, '개' as quantity\n",
    "from order789Gsheet\n",
    "where month = 7 and year = 2017\n",
    "group by sku\n",
    "order by gtotal desc;\n",
    "\"\"\"\n",
    "cursor = conn.cursor()\n",
    "cursor.execute(sql_cmd)\n",
    "tuples = cursor.fetchall()\n"
   ]
  },
  {
   "cell_type": "code",
   "execution_count": 64,
   "metadata": {},
   "outputs": [
    {
     "name": "stdout",
     "output_type": "stream",
     "text": [
      "7 월 424782 염지닭(생활맥주용                                \t\t\t 1,672,440 원 \t\t28 개\n",
      "7 월 424783 염지닭안심(생활맥주                               \t\t\t   683,100 원 \t\t15 개\n",
      "7 월 134356 심플로트 냉동감자(                               \t\t\t   602,580 원 \t\t55 개\n",
      "7 월 144398 심플로트 냉동감자(                               \t\t\t   557,172 원 \t\t54 개\n",
      "7 월 140440 심플로트 냉동감자(                               \t\t\t   476,036 원 \t\t62 개\n",
      "7 월 232931 반건오징어(생활맥주                               \t\t\t   354,000 원 \t\t12 개\n",
      "7 월 201934 소고기육포(생활맥주                               \t\t\t   349,360 원 \t\t80 개\n",
      "7 월 169394 샐러드믹스(생활맥주                               \t\t\t   345,600 원 \t\t24 개\n",
      "7 월 163815 이츠웰 골뱅이캔(자                               \t\t\t   344,960 원 \t\t112 개\n",
      "7 월 176689 소시지(생활맥주용                                \t\t\t   312,455 원 \t\t65 개\n",
      "7 월 116709 리코스 나쵸칩(45                               \t\t\t   267,960 원 \t\t84 개\n",
      "7 월 115722 사세통상 버팔로윙(                               \t\t\t   242,550 원 \t\t21 개\n",
      "7 월 124531 맥앤치즈볼(생활맥주                               \t\t\t   238,920 원 \t\t60 개\n",
      "7 월 116981 사세통상 버팔로윙스                               \t\t\t   226,380 원 \t\t21 개\n",
      "7 월 215140 양파드레싱(생활맥주                               \t\t\t   158,400 원 \t\t16 개\n",
      "7 월 118232 스팸 햄캔(마일드                                \t\t\t   138,600 원 \t\t45 개\n",
      "7 월 206578 길림양행 땅콩(껍질                               \t\t\t   138,600 원 \t\t18 개\n",
      "7 월 166412 뫼루니식품 물결무늬                               \t\t\t   115,720 원 \t\t8 개\n",
      "7 월 127454 파로 할라페뇨(슬라                               \t\t\t   102,850 원 \t\t11 개\n",
      "7 월 145970 치킨무(외식체인전용                               \t\t\t    91,200 원 \t\t16 개\n",
      "7 월 171838 팔도 비빔면(130                               \t\t\t    88,440 원 \t\t3 개\n",
      "7 월 166413 뫼루니 양념치킨소스                               \t\t\t    83,490 원 \t\t11 개\n",
      "7 월 100744 스프라이트 사이다(                               \t\t\t    76,955 원 \t\t5 개\n",
      "7 월 401354 계란(특란_60g*                               \t\t\t    75,716 원 \t\t8 개\n",
      "7 월 100743 코카콜라 콜라(캔_                               \t\t\t    68,112 원 \t\t4 개\n",
      "7 월 526116 유산지(생활맥주용                                \t\t\t    66,000 원 \t\t2 개\n",
      "7 월 178883 코스터(생활맥주용                                \t\t\t    62,700 원 \t\t1 개\n",
      "7 월 146239 쉐프솔루션 김치볶음                               \t\t\t    58,520 원 \t\t38 개\n",
      "7 월 119863 삼조쎌텍 나쵸치즈소                               \t\t\t    54,780 원 \t\t6 개\n",
      "7 월 242910 웰넛 건포도(500                               \t\t\t    43,010 원 \t\t17 개\n",
      "7 월 115364 삼진 살사소스(2K                               \t\t\t    39,600 원 \t\t4 개\n",
      "7 월 526117 비닐백(생활맥주용                                \t\t\t    39,600 원 \t\t4 개\n",
      "7 월 112371 칵테일냅킨(생활맥주                               \t\t\t    33,000 원 \t\t1 개\n",
      "7 월 160016 오뚜기 케찹(스파우                               \t\t\t    26,070 원 \t\t6 개\n",
      "7 월 501386 트레펑(1L 막힌하                               \t\t\t    24,365 원 \t\t10 개\n",
      "7 월 105409 아담스 파마산치즈파                               \t\t\t    24,200 원 \t\t2 개\n",
      "7 월 111308 천일식품 새우볶음밥                               \t\t\t    23,309 원 \t\t13 개\n",
      "7 월 138389 이츠웰 초고추장(N                               \t\t\t    23,100 원 \t\t7 개\n",
      "7 월 154639 오뚜기 마요네즈(골                               \t\t\t    21,560 원 \t\t2 개\n",
      "7 월 215139 케이준드레싱(생활맥                               \t\t\t    19,910 원 \t\t2 개\n",
      "7 월 146391 쉐프솔루션 햄야채볶                               \t\t\t    19,392 원 \t\t12 개\n",
      "7 월 135267 그라나파다노치즈(포                               \t\t\t    14,520 원 \t\t2 개\n",
      "7 월 146393 쉐프솔루션 해물볶음                               \t\t\t    12,840 원 \t\t8 개\n",
      "7 월 501191 하이코리아 락스(2                               \t\t\t    12,316 원 \t\t12 개\n",
      "7 월 514151 이츠웰 다용도봉투(                               \t\t\t     9,900 원 \t\t3 개\n",
      "7 월 177058 미니고무장갑(생활맥                               \t\t\t     8,250 원 \t\t1 개\n",
      "7 월 512188 이츠웰 롤백(중_3                               \t\t\t     7,700 원 \t\t2 개\n",
      "7 월 139476 신영상회 파슬리후레                               \t\t\t     5,960 원 \t\t1 개\n",
      "7 월 512186 이츠웰 롤백(소_2                               \t\t\t     5,390 원 \t\t2 개\n",
      "7 월 503517 스카치브라이트 양면                               \t\t\t     4,813 원 \t\t5 개\n",
      "7 월 159365 유니푸드 양념소금(                               \t\t\t     2,200 원 \t\t2 개\n"
     ]
    }
   ],
   "source": [
    "for tuple in tuples:\n",
    "    pname = tuple[2].replace(\"\\n\", \"-\")\n",
    "    print tuple[0], '월', tuple[1], pname[:10].ljust(40), '\\t\\t\\t', \"{:10,}\".format(tuple[3]),'원', '\\t\\t', tuple[5],'개'"
   ]
  },
  {
   "cell_type": "markdown",
   "metadata": {},
   "source": [
    "## Group by SKU, MONTH"
   ]
  },
  {
   "cell_type": "code",
   "execution_count": 6,
   "metadata": {},
   "outputs": [],
   "source": [
    "sql_cmd = \"\"\"\n",
    "select\n",
    "        sku, pname,\n",
    "        month,\n",
    "        '월' as mon,\n",
    "        sum(total) as gtotal,\n",
    "        sum(qty) as qty,\n",
    "        '개' as quantity\n",
    "from order789Gsheet\n",
    "group by sku, month\n",
    "order by sku, month;\n",
    "\"\"\"\n",
    "cursor = conn.cursor()\n",
    "cursor.execute(sql_cmd)\n",
    "tuples = cursor.fetchall()"
   ]
  },
  {
   "cell_type": "code",
   "execution_count": 37,
   "metadata": {},
   "outputs": [
    {
     "name": "stdout",
     "output_type": "stream",
     "text": [
      "100353 백설 바삭튀김가루(           \t\t8월 \t\t2750 \t\t1개\n",
      "100353 백설 바삭튀김가루(           \t\t9월 \t\t13750 \t\t5개\n",
      "100743 코카콜라 콜라(캔_           \t\t7월 \t\t68112 \t\t4개\n",
      "100743 코카콜라 콜라(캔_           \t\t8월 \t\t68112 \t\t4개\n",
      "100743 코카콜라 콜라(캔_           \t\t9월 \t\t34056 \t\t2개\n",
      "100744 스프라이트 사이다(           \t\t7월 \t\t76955 \t\t5개\n",
      "100744 스프라이트 사이다(           \t\t8월 \t\t76955 \t\t5개\n",
      "100744 스프라이트 사이다(           \t\t9월 \t\t61564 \t\t4개\n",
      "105409 아담스 파마산치즈파           \t\t7월 \t\t24200 \t\t2개\n",
      "105409 아담스 파마산치즈파           \t\t8월 \t\t12100 \t\t1개\n",
      "111308 천일식품 새우볶음밥           \t\t7월 \t\t23309 \t\t13개\n",
      "111308 천일식품 새우볶음밥           \t\t8월 \t\t17930 \t\t10개\n",
      "112371 칵테일냅킨(생활맥주           \t\t7월 \t\t33000 \t\t1개\n",
      "112371 칵테일냅킨(생활맥주           \t\t8월 \t\t33000 \t\t1개\n",
      "115364 삼진 살사소스(2K           \t\t7월 \t\t39600 \t\t4개\n",
      "115364 삼진 살사소스(2K           \t\t8월 \t\t59400 \t\t6개\n",
      "115364 삼진 살사소스(2K           \t\t9월 \t\t19800 \t\t2개\n",
      "115722 사세통상 버팔로윙(           \t\t7월 \t\t242550 \t\t21개\n",
      "115722 사세통상 버팔로윙(           \t\t8월 \t\t127050 \t\t11개\n",
      "115722 사세통상 버팔로윙(           \t\t9월 \t\t173250 \t\t15개\n",
      "116709 리코스 나쵸칩(45           \t\t7월 \t\t267960 \t\t84개\n",
      "116709 리코스 나쵸칩(45           \t\t8월 \t\t210540 \t\t66개\n",
      "116709 리코스 나쵸칩(45           \t\t9월 \t\t191400 \t\t60개\n",
      "116981 사세통상 버팔로윙스           \t\t7월 \t\t226380 \t\t21개\n",
      "116981 사세통상 버팔로윙스           \t\t8월 \t\t172480 \t\t16개\n",
      "116981 사세통상 버팔로윙스           \t\t9월 \t\t161700 \t\t15개\n",
      "118232 스팸 햄캔(마일드            \t\t7월 \t\t138600 \t\t45개\n",
      "118232 스팸 햄캔(마일드            \t\t8월 \t\t184800 \t\t60개\n",
      "118232 스팸 햄캔(마일드            \t\t9월 \t\t169400 \t\t55개\n",
      "119863 삼조쎌텍 나쵸치즈소           \t\t7월 \t\t54780 \t\t6개\n",
      "119863 삼조쎌텍 나쵸치즈소           \t\t8월 \t\t82170 \t\t9개\n"
     ]
    }
   ],
   "source": [
    "i=0\n",
    "for tuple in tuples:\n",
    "    glist = []\n",
    "    pname = tuple[1].replace(\"\\n\",\"-\")\n",
    "    monthstring = tuple[2]+u'월'\n",
    "    qtystring = str(tuple[5])+u'개' \n",
    "    eachmonth = [tuple[0], pname, monthstring, tuple[4], qtystring]\n",
    "    \n",
    "    print eachmonth[0], (eachmonth[1][:10]).ljust(20),'\\t\\t', eachmonth[2], '\\t\\t',eachmonth[3],'\\t\\t', eachmonth[4]\n",
    "    i = i + 1\n",
    "    if i > 30:\n",
    "        break\n",
    "        "
   ]
  },
  {
   "cell_type": "code",
   "execution_count": 26,
   "metadata": {},
   "outputs": [
    {
     "name": "stdout",
     "output_type": "stream",
     "text": [
      "백설 바삭튀김가루(1Kg/EA) 미국\n",
      "※미국산\n",
      "백설 바삭튀김가루(1Kg/EA) 미국\n",
      "※미국산\n"
     ]
    }
   ],
   "source": [
    "print tuple[1]\n",
    "def unicode_truncate(s, length, encoding='utf-8'):\n",
    "    encoded = s.encode(encoding)[:length]\n",
    "    return encoded.decode(encoding, 'ignore')\n",
    "print unicode_truncate(tuple[1], 60)"
   ]
  }
 ],
 "metadata": {
  "kernelspec": {
   "display_name": "Python 2",
   "language": "python",
   "name": "python2"
  },
  "language_info": {
   "codemirror_mode": {
    "name": "ipython",
    "version": 2
   },
   "file_extension": ".py",
   "mimetype": "text/x-python",
   "name": "python",
   "nbconvert_exporter": "python",
   "pygments_lexer": "ipython2",
   "version": "2.7.13"
  }
 },
 "nbformat": 4,
 "nbformat_minor": 2
}
