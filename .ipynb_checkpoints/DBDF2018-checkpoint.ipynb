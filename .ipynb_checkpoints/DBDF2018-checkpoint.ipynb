{
 "cells": [
  {
   "cell_type": "markdown",
   "metadata": {},
   "source": [
    "# DailyBeer Sales and Buy"
   ]
  },
  {
   "cell_type": "code",
   "execution_count": 38,
   "metadata": {},
   "outputs": [],
   "source": [
    "import sqlite3\n",
    "conn_sales = sqlite3.connect(\"Sales.db\")"
   ]
  },
  {
   "cell_type": "markdown",
   "metadata": {},
   "source": [
    "## 1. Monthly Sales and Buy"
   ]
  },
  {
   "cell_type": "markdown",
   "metadata": {},
   "source": [
    "### DF_Sales, DF_Bsales, DF_CJsales, DF_Bbuy, DF_CJbuy"
   ]
  },
  {
   "cell_type": "code",
   "execution_count": 39,
   "metadata": {},
   "outputs": [],
   "source": [
    "from pandas import Series, DataFrame\n",
    "import pandas as pd\n",
    "\n",
    "\n",
    "sql_cmd_Sales = \"\"\"\n",
    "        select year, month, sum(amount) as Sales\n",
    "        from  sales\n",
    "        group by month\n",
    "        order by year, month\n",
    "\"\"\"\n",
    "DF_Sales = pd.read_sql_query(sql_cmd_Sales, conn_sales)\n",
    "DF_Sales = DF_Sales.set_index(['year', 'month'])\n",
    "\n",
    "\n",
    "\n",
    "sql_cmd_Bsales = \"\"\"\n",
    "                    select year, month, sum(amount) as Bsales\n",
    "                    from sales\n",
    "                    where cat1 = 2 or cat1 = 6\n",
    "                    group by year, month\n",
    "\"\"\"\n",
    "DF_Bsales = pd.read_sql_query(sql_cmd_Bsales, conn_sales)\n",
    "DF_Bsales = DF_Bsales.set_index(['year', 'month'])\n",
    "\n",
    "\n",
    "\n",
    "sql_cmd_CJsales = \"\"\"\n",
    "                    select year, month, sum(amount) as CJsales\n",
    "                    from sales\n",
    "                    where cat1 = 3\n",
    "                    group by year, month\n",
    "\"\"\"\n",
    "DF_CJsales = pd.read_sql_query(sql_cmd_CJsales, conn_sales)\n",
    "DF_CJsales = DF_CJsales.set_index(['year', 'month'])\n",
    "\n",
    "\n",
    "sql_cmd_Bbuy = \"\"\"\n",
    "        select year, month, sum(amount) as Bbuy\n",
    "        from beer\n",
    "        group by month\n",
    "        order by year, month\n",
    "\"\"\"\n",
    "DF_Bbuy = pd.read_sql_query(sql_cmd_Bbuy, conn_sales)\n",
    "DF_Bbuy = DF_Bbuy.set_index(['year', 'month'])\n",
    "\n",
    "\n",
    "\n",
    "sql_cmd_CJbuy = \"\"\"\n",
    "        select year, month, sum(total) as CJbuy\n",
    "        from OrderAll\n",
    "        group by month\n",
    "        order by year, month\n",
    "\"\"\"\n",
    "DF_CJbuy = pd.read_sql_query(sql_cmd_CJbuy, conn_sales)\n",
    "DF_CJbuy = DF_CJbuy.set_index(['year', 'month'])\n"
   ]
  },
  {
   "cell_type": "markdown",
   "metadata": {},
   "source": [
    "## Sales CJ:B -- pd.concat( [DF_Bsales, DF_CJsales] , axis = 1)"
   ]
  },
  {
   "cell_type": "code",
   "execution_count": 40,
   "metadata": {
    "scrolled": true
   },
   "outputs": [
    {
     "data": {
      "text/html": [
       "<div>\n",
       "<style scoped>\n",
       "    .dataframe tbody tr th:only-of-type {\n",
       "        vertical-align: middle;\n",
       "    }\n",
       "\n",
       "    .dataframe tbody tr th {\n",
       "        vertical-align: top;\n",
       "    }\n",
       "\n",
       "    .dataframe thead th {\n",
       "        text-align: right;\n",
       "    }\n",
       "</style>\n",
       "<table border=\"1\" class=\"dataframe\">\n",
       "  <thead>\n",
       "    <tr style=\"text-align: right;\">\n",
       "      <th></th>\n",
       "      <th></th>\n",
       "      <th>Bsales</th>\n",
       "      <th>CJsales</th>\n",
       "      <th>Sales</th>\n",
       "      <th>CJsales_rate</th>\n",
       "      <th>Bsales_rate</th>\n",
       "    </tr>\n",
       "    <tr>\n",
       "      <th>year</th>\n",
       "      <th>month</th>\n",
       "      <th></th>\n",
       "      <th></th>\n",
       "      <th></th>\n",
       "      <th></th>\n",
       "      <th></th>\n",
       "    </tr>\n",
       "  </thead>\n",
       "  <tbody>\n",
       "    <tr>\n",
       "      <th rowspan=\"6\" valign=\"top\">2017</th>\n",
       "      <th>7</th>\n",
       "      <td>34292379</td>\n",
       "      <td>16890571</td>\n",
       "      <td>51182950</td>\n",
       "      <td>33.000386</td>\n",
       "      <td>66.999614</td>\n",
       "    </tr>\n",
       "    <tr>\n",
       "      <th>8</th>\n",
       "      <td>32386200</td>\n",
       "      <td>18277000</td>\n",
       "      <td>50663200</td>\n",
       "      <td>36.075495</td>\n",
       "      <td>63.924505</td>\n",
       "    </tr>\n",
       "    <tr>\n",
       "      <th>9</th>\n",
       "      <td>26439450</td>\n",
       "      <td>13706500</td>\n",
       "      <td>40145950</td>\n",
       "      <td>34.141676</td>\n",
       "      <td>65.858324</td>\n",
       "    </tr>\n",
       "    <tr>\n",
       "      <th>10</th>\n",
       "      <td>21552100</td>\n",
       "      <td>11784200</td>\n",
       "      <td>33336300</td>\n",
       "      <td>35.349454</td>\n",
       "      <td>64.650546</td>\n",
       "    </tr>\n",
       "    <tr>\n",
       "      <th>11</th>\n",
       "      <td>17135500</td>\n",
       "      <td>9869750</td>\n",
       "      <td>27005250</td>\n",
       "      <td>36.547523</td>\n",
       "      <td>63.452477</td>\n",
       "    </tr>\n",
       "    <tr>\n",
       "      <th>12</th>\n",
       "      <td>17748159</td>\n",
       "      <td>10456191</td>\n",
       "      <td>28204350</td>\n",
       "      <td>37.072973</td>\n",
       "      <td>62.927027</td>\n",
       "    </tr>\n",
       "    <tr>\n",
       "      <th rowspan=\"2\" valign=\"top\">2018</th>\n",
       "      <th>1</th>\n",
       "      <td>18861800</td>\n",
       "      <td>12744000</td>\n",
       "      <td>31605800</td>\n",
       "      <td>40.321713</td>\n",
       "      <td>59.678287</td>\n",
       "    </tr>\n",
       "    <tr>\n",
       "      <th>2</th>\n",
       "      <td>16097564</td>\n",
       "      <td>9275636</td>\n",
       "      <td>25373200</td>\n",
       "      <td>36.556824</td>\n",
       "      <td>63.443176</td>\n",
       "    </tr>\n",
       "  </tbody>\n",
       "</table>\n",
       "</div>"
      ],
      "text/plain": [
       "              Bsales   CJsales     Sales  CJsales_rate  Bsales_rate\n",
       "year month                                                         \n",
       "2017 7      34292379  16890571  51182950     33.000386    66.999614\n",
       "     8      32386200  18277000  50663200     36.075495    63.924505\n",
       "     9      26439450  13706500  40145950     34.141676    65.858324\n",
       "     10     21552100  11784200  33336300     35.349454    64.650546\n",
       "     11     17135500   9869750  27005250     36.547523    63.452477\n",
       "     12     17748159  10456191  28204350     37.072973    62.927027\n",
       "2018 1      18861800  12744000  31605800     40.321713    59.678287\n",
       "     2      16097564   9275636  25373200     36.556824    63.443176"
      ]
     },
     "execution_count": 40,
     "metadata": {},
     "output_type": "execute_result"
    }
   ],
   "source": [
    "DF_CJB_Sales = pd.concat( [DF_Bsales, DF_CJsales], axis =1)\n",
    "DF_CJB_Sales['Sales'] = DF_CJB_Sales['Bsales'] + DF_CJB_Sales['CJsales']\n",
    "DF_CJB_Sales['CJsales_rate'] = DF_CJB_Sales['CJsales'] / DF_CJB_Sales['Sales'] * 100\n",
    "DF_CJB_Sales['Bsales_rate'] = DF_CJB_Sales['Bsales'] / DF_CJB_Sales['Sales'] * 100\n",
    "DF_CJB_Sales"
   ]
  },
  {
   "cell_type": "markdown",
   "metadata": {},
   "source": [
    "### Sales(total) Graph"
   ]
  },
  {
   "cell_type": "code",
   "execution_count": 63,
   "metadata": {},
   "outputs": [
    {
     "data": {
      "image/png": "[encoded data removed]",
      "text/plain": [
       "<matplotlib.figure.Figure at 0x11e853990>"
      ]
     },
     "metadata": {},
     "output_type": "display_data"
    }
   ],
   "source": [
    "\n",
    "fig = plt.figure()\n",
    "ax = DF_CJB_Sales['Sales'].plot.bar(stacked=True, figsize=(18,10), grid=True, colormap='Set3')\n",
    "\n",
    "\n",
    "ax.set_xlabel('Year and Month')\n",
    "ax.set_ylabel('Total Sales')\n",
    "\n",
    "\n",
    "labels = []\n",
    "\n",
    "for i in DF_CJB_Sales.index:\n",
    "    value_str = \"{:<12,}\".format(int(DF_CJB_Sales.loc[i]['Sales'])) \n",
    "    labels.append(value_str)\n",
    "\n",
    "\n",
    "# print labels\n",
    "\n",
    "patches = ax.patches\n",
    "for label, rect in zip(labels, patches):\n",
    "    width = rect.get_width()\n",
    "    if width > 0:\n",
    "        x = rect.get_x()\n",
    "        y = rect.get_y()\n",
    "        height = rect.get_height()\n",
    "#        csv = \"{:<12,}\".format(int(label))\n",
    "        ax.text(x + width/2., y + height/2., label, ha='center', va='center', fontsize=16)\n",
    "\n",
    "fig  = ax.get_figure()\n",
    "fig.savefig('Sales-Total.png')\n",
    "\n",
    "\n"
   ]
  },
  {
   "cell_type": "markdown",
   "metadata": {},
   "source": [
    "### Sales(CJ:B) Graph"
   ]
  },
  {
   "cell_type": "code",
   "execution_count": 42,
   "metadata": {},
   "outputs": [
    {
     "data": {
      "text/plain": [
       "<matplotlib.figure.Figure at 0x11d146f50>"
      ]
     },
     "metadata": {},
     "output_type": "display_data"
    },
    {
     "data": {
      "image/png": "[encoded data removed]",
      "text/plain": [
       "<matplotlib.figure.Figure at 0x11f3c19d0>"
      ]
     },
     "metadata": {},
     "output_type": "display_data"
    }
   ],
   "source": [
    "import matplotlib.pyplot as plt\n",
    "\n",
    "\n",
    "fig = plt.figure()\n",
    "DF_CJB_Sales_Graph = DF_CJB_Sales[['Bsales', 'CJsales']]\n",
    "ax = DF_CJB_Sales_Graph.plot.bar(stacked=True, figsize=(18,10), grid=True)\n",
    "\n",
    "\n",
    "ax.set_xlabel('Year and Month')\n",
    "ax.set_ylabel('Total Sales')\n",
    "\n",
    "pct_str=\"\"\n",
    "\n",
    "labels = []\n",
    "for j in DF_CJB_Sales_Graph.columns:\n",
    "    pct_str=\"\"\n",
    "    for i in DF_CJB_Sales_Graph.index:\n",
    "#        value_str = \"{:<12,}\".format(int(DF_CJB_Sales_Graph.loc[i][j])) \n",
    "        \n",
    "        if j == 'Bsales':\n",
    "            pct_str = \"{0:.4}%\".format(DF_CJB_Sales.loc[i]['Bsales_rate'])\n",
    "        elif j == 'CJsales':\n",
    "            pct_str = \"{0:.4}%\".format(DF_CJB_Sales.loc[i]['CJsales_rate'])\n",
    "\n",
    "        if pct_str != \"\":\n",
    "            value_str = value_str + \"::\" + pct_str\n",
    "#       label = DF_RCB[i][j] \n",
    "#        labels.append(value_str)\n",
    "        labels.append(pct_str)\n",
    "\n",
    "\n",
    "# print labels\n",
    "\n",
    "patches = ax.patches\n",
    "for label, rect in zip(labels, patches):\n",
    "    width = rect.get_width()\n",
    "    if width > 0:\n",
    "        x = rect.get_x()\n",
    "        y = rect.get_y()\n",
    "        height = rect.get_height()\n",
    "#        csv = \"{:<12,}\".format(int(label))\n",
    "        ax.text(x + width/2., y + height/2., label, ha='center', va='center', fontsize=16)\n",
    "\n",
    "fig  = ax.get_figure()\n",
    "fig.savefig('Sales-CJ:B.png')\n",
    "\n",
    "\n",
    "\n",
    "\n"
   ]
  },
  {
   "cell_type": "markdown",
   "metadata": {},
   "source": [
    "## pd.concat( [DF_Sales, DF_CJbuy,  DF_Bbuy] )  and Calcuate the CJB Rate "
   ]
  },
  {
   "cell_type": "code",
   "execution_count": 43,
   "metadata": {
    "scrolled": false
   },
   "outputs": [
    {
     "data": {
      "text/html": [
       "<div>\n",
       "<style scoped>\n",
       "    .dataframe tbody tr th:only-of-type {\n",
       "        vertical-align: middle;\n",
       "    }\n",
       "\n",
       "    .dataframe tbody tr th {\n",
       "        vertical-align: top;\n",
       "    }\n",
       "\n",
       "    .dataframe thead th {\n",
       "        text-align: right;\n",
       "    }\n",
       "</style>\n",
       "<table border=\"1\" class=\"dataframe\">\n",
       "  <thead>\n",
       "    <tr style=\"text-align: right;\">\n",
       "      <th></th>\n",
       "      <th></th>\n",
       "      <th>Sales</th>\n",
       "      <th>CJbuy</th>\n",
       "      <th>Bbuy</th>\n",
       "      <th>R</th>\n",
       "      <th>CJ+Beer_Rate</th>\n",
       "      <th>CJ_Rate</th>\n",
       "      <th>Beer_Rate</th>\n",
       "      <th>R_Rate</th>\n",
       "    </tr>\n",
       "    <tr>\n",
       "      <th>year</th>\n",
       "      <th>month</th>\n",
       "      <th></th>\n",
       "      <th></th>\n",
       "      <th></th>\n",
       "      <th></th>\n",
       "      <th></th>\n",
       "      <th></th>\n",
       "      <th></th>\n",
       "      <th></th>\n",
       "    </tr>\n",
       "  </thead>\n",
       "  <tbody>\n",
       "    <tr>\n",
       "      <th rowspan=\"6\" valign=\"top\">2017</th>\n",
       "      <th>7</th>\n",
       "      <td>51182950</td>\n",
       "      <td>8474601</td>\n",
       "      <td>0.0</td>\n",
       "      <td>42708349.0</td>\n",
       "      <td>16.557469</td>\n",
       "      <td>16.557469</td>\n",
       "      <td>0.000000</td>\n",
       "      <td>83.442531</td>\n",
       "    </tr>\n",
       "    <tr>\n",
       "      <th>8</th>\n",
       "      <td>50663200</td>\n",
       "      <td>7594394</td>\n",
       "      <td>0.0</td>\n",
       "      <td>43068806.0</td>\n",
       "      <td>14.989961</td>\n",
       "      <td>14.989961</td>\n",
       "      <td>0.000000</td>\n",
       "      <td>85.010039</td>\n",
       "    </tr>\n",
       "    <tr>\n",
       "      <th>9</th>\n",
       "      <td>40145950</td>\n",
       "      <td>6673702</td>\n",
       "      <td>8510300.0</td>\n",
       "      <td>24961948.0</td>\n",
       "      <td>37.822002</td>\n",
       "      <td>16.623600</td>\n",
       "      <td>21.198402</td>\n",
       "      <td>62.177998</td>\n",
       "    </tr>\n",
       "    <tr>\n",
       "      <th>10</th>\n",
       "      <td>33336300</td>\n",
       "      <td>4974996</td>\n",
       "      <td>7362700.0</td>\n",
       "      <td>20998604.0</td>\n",
       "      <td>37.009794</td>\n",
       "      <td>14.923660</td>\n",
       "      <td>22.086134</td>\n",
       "      <td>62.990206</td>\n",
       "    </tr>\n",
       "    <tr>\n",
       "      <th>11</th>\n",
       "      <td>27005250</td>\n",
       "      <td>4325622</td>\n",
       "      <td>3511400.0</td>\n",
       "      <td>19168228.0</td>\n",
       "      <td>29.020365</td>\n",
       "      <td>16.017708</td>\n",
       "      <td>13.002657</td>\n",
       "      <td>70.979635</td>\n",
       "    </tr>\n",
       "    <tr>\n",
       "      <th>12</th>\n",
       "      <td>28204350</td>\n",
       "      <td>4400016</td>\n",
       "      <td>6820800.0</td>\n",
       "      <td>16983534.0</td>\n",
       "      <td>39.783991</td>\n",
       "      <td>15.600487</td>\n",
       "      <td>24.183504</td>\n",
       "      <td>60.216009</td>\n",
       "    </tr>\n",
       "    <tr>\n",
       "      <th rowspan=\"2\" valign=\"top\">2018</th>\n",
       "      <th>1</th>\n",
       "      <td>31605800</td>\n",
       "      <td>2959125</td>\n",
       "      <td>5753900.0</td>\n",
       "      <td>22892775.0</td>\n",
       "      <td>27.567804</td>\n",
       "      <td>9.362601</td>\n",
       "      <td>18.205203</td>\n",
       "      <td>72.432196</td>\n",
       "    </tr>\n",
       "    <tr>\n",
       "      <th>2</th>\n",
       "      <td>25373200</td>\n",
       "      <td>3821956</td>\n",
       "      <td>5687000.0</td>\n",
       "      <td>15864244.0</td>\n",
       "      <td>37.476377</td>\n",
       "      <td>15.062964</td>\n",
       "      <td>22.413413</td>\n",
       "      <td>62.523623</td>\n",
       "    </tr>\n",
       "  </tbody>\n",
       "</table>\n",
       "</div>"
      ],
      "text/plain": [
       "               Sales    CJbuy       Bbuy           R  CJ+Beer_Rate    CJ_Rate  \\\n",
       "year month                                                                      \n",
       "2017 7      51182950  8474601        0.0  42708349.0     16.557469  16.557469   \n",
       "     8      50663200  7594394        0.0  43068806.0     14.989961  14.989961   \n",
       "     9      40145950  6673702  8510300.0  24961948.0     37.822002  16.623600   \n",
       "     10     33336300  4974996  7362700.0  20998604.0     37.009794  14.923660   \n",
       "     11     27005250  4325622  3511400.0  19168228.0     29.020365  16.017708   \n",
       "     12     28204350  4400016  6820800.0  16983534.0     39.783991  15.600487   \n",
       "2018 1      31605800  2959125  5753900.0  22892775.0     27.567804   9.362601   \n",
       "     2      25373200  3821956  5687000.0  15864244.0     37.476377  15.062964   \n",
       "\n",
       "            Beer_Rate     R_Rate  \n",
       "year month                        \n",
       "2017 7       0.000000  83.442531  \n",
       "     8       0.000000  85.010039  \n",
       "     9      21.198402  62.177998  \n",
       "     10     22.086134  62.990206  \n",
       "     11     13.002657  70.979635  \n",
       "     12     24.183504  60.216009  \n",
       "2018 1      18.205203  72.432196  \n",
       "     2      22.413413  62.523623  "
      ]
     },
     "execution_count": 43,
     "metadata": {},
     "output_type": "execute_result"
    }
   ],
   "source": [
    "\n",
    "DF_M = pd.concat([DF_Sales, DF_CJbuy, DF_Bbuy], axis=1)\n",
    "DF_M.loc[DF_M['Bbuy'].isnull(), 'Bbuy'] = 0\n",
    "\n",
    "DF_M['R'] = DF_M['Sales'] - ( DF_M['CJbuy'] + DF_M['Bbuy'])\n",
    "DF_M['CJ+Beer_Rate'] = ((DF_M['CJbuy'] + DF_M['Bbuy']) / DF_M['Sales'] * 100)\n",
    "DF_M['CJ_Rate'] = (DF_M['CJbuy'] / DF_M['Sales']) * 100\n",
    "DF_M['Beer_Rate'] = (DF_M['Bbuy'] / DF_M['Sales']) * 100\n",
    "DF_M['R_Rate'] = (DF_M['R']/DF_M['Sales']) * 100\n",
    "DF_M"
   ]
  },
  {
   "cell_type": "markdown",
   "metadata": {},
   "source": [
    "##  Buy(CJB):Sales Graph"
   ]
  },
  {
   "cell_type": "markdown",
   "metadata": {},
   "source": [
    "### CJ:B:Sales"
   ]
  },
  {
   "cell_type": "code",
   "execution_count": 44,
   "metadata": {
    "scrolled": false
   },
   "outputs": [
    {
     "data": {
      "text/plain": [
       "<matplotlib.figure.Figure at 0x11f998f50>"
      ]
     },
     "metadata": {},
     "output_type": "display_data"
    },
    {
     "data": {
      "image/png": "[encoded data removed]",
      "text/plain": [
       "<matplotlib.figure.Figure at 0x11ec62450>"
      ]
     },
     "metadata": {},
     "output_type": "display_data"
    }
   ],
   "source": [
    "\n",
    "fig = plt.figure()\n",
    "DF_RCB = DF_M[['R', 'CJbuy', 'Bbuy']]\n",
    "ax = DF_RCB.plot.bar(stacked=True, figsize=(18,10), grid=True)\n",
    "\n",
    "ax.set_xlabel('Year and Month')\n",
    "ax.set_ylabel('Total')\n",
    "\n",
    "pct_str=\"\"\n",
    "labels = []\n",
    "for j in DF_RCB.columns:\n",
    "    pct_str=\"\"\n",
    "    for i in DF_RCB.index:\n",
    "        value_str = \"{:<12,}\".format(int(DF_RCB.loc[i][j])) \n",
    "        \n",
    "        if j == 'CJbuy':\n",
    "            pct_str = \"{0:.4}%\".format(DF_M.loc[i]['CJ_Rate'])\n",
    "        elif j == 'Bbuy':\n",
    "            pct_str = \"{0:.4}%\".format(DF_M.loc[i]['Beer_Rate'])\n",
    "        elif j == 'R':\n",
    "            pct_str = \"{0:.4}%\".format(DF_M.loc[i]['R_Rate'])\n",
    "\n",
    "        if pct_str != \"\":\n",
    "            value_str = value_str + \"::\" + pct_str\n",
    "#       label = DF_RCB[i][j] \n",
    "        labels.append(value_str)\n",
    "\n",
    "# print labels\n",
    "\n",
    "patches = ax.patches\n",
    "for label, rect in zip(labels, patches):\n",
    "    width = rect.get_width()\n",
    "    if width > 0:\n",
    "        x = rect.get_x()\n",
    "        y = rect.get_y()\n",
    "        height = rect.get_height()\n",
    "#        csv = \"{:<12,}\".format(int(label))\n",
    "        ax.text(x + width/2., y + height/2., label, ha='center', va='center')\n",
    "\n",
    "fig  = ax.get_figure()\n",
    "fig.savefig('Sales-CJBbuy.png')\n"
   ]
  },
  {
   "cell_type": "markdown",
   "metadata": {},
   "source": [
    "# 2. Beer Sell:Buy Rate"
   ]
  },
  {
   "cell_type": "code",
   "execution_count": 45,
   "metadata": {
    "scrolled": false
   },
   "outputs": [
    {
     "data": {
      "text/html": [
       "<div>\n",
       "<style scoped>\n",
       "    .dataframe tbody tr th:only-of-type {\n",
       "        vertical-align: middle;\n",
       "    }\n",
       "\n",
       "    .dataframe tbody tr th {\n",
       "        vertical-align: top;\n",
       "    }\n",
       "\n",
       "    .dataframe thead th {\n",
       "        text-align: right;\n",
       "    }\n",
       "</style>\n",
       "<table border=\"1\" class=\"dataframe\">\n",
       "  <thead>\n",
       "    <tr style=\"text-align: right;\">\n",
       "      <th></th>\n",
       "      <th></th>\n",
       "      <th>Bsales</th>\n",
       "      <th>Bbuy</th>\n",
       "      <th>R</th>\n",
       "      <th>brate</th>\n",
       "      <th>prate</th>\n",
       "    </tr>\n",
       "    <tr>\n",
       "      <th>year</th>\n",
       "      <th>month</th>\n",
       "      <th></th>\n",
       "      <th></th>\n",
       "      <th></th>\n",
       "      <th></th>\n",
       "      <th></th>\n",
       "    </tr>\n",
       "  </thead>\n",
       "  <tbody>\n",
       "    <tr>\n",
       "      <th rowspan=\"6\" valign=\"top\">2017</th>\n",
       "      <th>7</th>\n",
       "      <td>34292379</td>\n",
       "      <td>0.0</td>\n",
       "      <td>34292379.0</td>\n",
       "      <td>0.000000</td>\n",
       "      <td>100.000000</td>\n",
       "    </tr>\n",
       "    <tr>\n",
       "      <th>8</th>\n",
       "      <td>32386200</td>\n",
       "      <td>0.0</td>\n",
       "      <td>32386200.0</td>\n",
       "      <td>0.000000</td>\n",
       "      <td>100.000000</td>\n",
       "    </tr>\n",
       "    <tr>\n",
       "      <th>9</th>\n",
       "      <td>26439450</td>\n",
       "      <td>8510300.0</td>\n",
       "      <td>17929150.0</td>\n",
       "      <td>32.187886</td>\n",
       "      <td>67.812114</td>\n",
       "    </tr>\n",
       "    <tr>\n",
       "      <th>10</th>\n",
       "      <td>21552100</td>\n",
       "      <td>7362700.0</td>\n",
       "      <td>14189400.0</td>\n",
       "      <td>34.162332</td>\n",
       "      <td>65.837668</td>\n",
       "    </tr>\n",
       "    <tr>\n",
       "      <th>11</th>\n",
       "      <td>17135500</td>\n",
       "      <td>3511400.0</td>\n",
       "      <td>13624100.0</td>\n",
       "      <td>20.491961</td>\n",
       "      <td>79.508039</td>\n",
       "    </tr>\n",
       "    <tr>\n",
       "      <th>12</th>\n",
       "      <td>17748159</td>\n",
       "      <td>6820800.0</td>\n",
       "      <td>10927359.0</td>\n",
       "      <td>38.431028</td>\n",
       "      <td>61.568972</td>\n",
       "    </tr>\n",
       "    <tr>\n",
       "      <th rowspan=\"2\" valign=\"top\">2018</th>\n",
       "      <th>1</th>\n",
       "      <td>18861800</td>\n",
       "      <td>5753900.0</td>\n",
       "      <td>13107900.0</td>\n",
       "      <td>30.505572</td>\n",
       "      <td>69.494428</td>\n",
       "    </tr>\n",
       "    <tr>\n",
       "      <th>2</th>\n",
       "      <td>16097564</td>\n",
       "      <td>5687000.0</td>\n",
       "      <td>10410564.0</td>\n",
       "      <td>35.328327</td>\n",
       "      <td>64.671673</td>\n",
       "    </tr>\n",
       "  </tbody>\n",
       "</table>\n",
       "</div>"
      ],
      "text/plain": [
       "              Bsales       Bbuy           R      brate       prate\n",
       "year month                                                        \n",
       "2017 7      34292379        0.0  34292379.0   0.000000  100.000000\n",
       "     8      32386200        0.0  32386200.0   0.000000  100.000000\n",
       "     9      26439450  8510300.0  17929150.0  32.187886   67.812114\n",
       "     10     21552100  7362700.0  14189400.0  34.162332   65.837668\n",
       "     11     17135500  3511400.0  13624100.0  20.491961   79.508039\n",
       "     12     17748159  6820800.0  10927359.0  38.431028   61.568972\n",
       "2018 1      18861800  5753900.0  13107900.0  30.505572   69.494428\n",
       "     2      16097564  5687000.0  10410564.0  35.328327   64.671673"
      ]
     },
     "execution_count": 45,
     "metadata": {},
     "output_type": "execute_result"
    }
   ],
   "source": [
    "\n",
    "DF_Bmerge = pd.concat([DF_Bsales, DF_Bbuy], axis = 1) \n",
    "DF_Bmerge.loc[DF_Bmerge['Bbuy'].isnull(), 'Bbuy'] = 0\n",
    "\n",
    "DF_Bmerge['R'] = DF_Bmerge['Bsales'] - DF_Bmerge['Bbuy']\n",
    "DF_Bmerge['brate'] = DF_Bmerge['Bbuy'] / DF_Bmerge['Bsales'] * 100\n",
    "DF_Bmerge['prate'] = 100- (DF_Bmerge['Bbuy'] / DF_Bmerge['Bsales'] * 100)\n",
    "\n",
    "DF_Bmerge\n",
    "\n"
   ]
  },
  {
   "cell_type": "markdown",
   "metadata": {},
   "source": [
    "### Beer Sell:Buy Graph "
   ]
  },
  {
   "cell_type": "code",
   "execution_count": 46,
   "metadata": {
    "scrolled": false
   },
   "outputs": [
    {
     "data": {
      "text/plain": [
       "<matplotlib.figure.Figure at 0x11d1be1d0>"
      ]
     },
     "metadata": {},
     "output_type": "display_data"
    },
    {
     "data": {
      "image/png": "[encoded data removed]",
      "text/plain": [
       "<matplotlib.figure.Figure at 0x119134290>"
      ]
     },
     "metadata": {},
     "output_type": "display_data"
    }
   ],
   "source": [
    "\n",
    "plt.figure()\n",
    "DF_BMG = DF_Bmerge[['R', 'Bbuy']]\n",
    "ax = DF_BMG.plot.bar(stacked=True, figsize=(18,10), grid=True)\n",
    "\n",
    "ax.set_xlabel('Year and Month')\n",
    "ax.set_ylabel('Total')\n",
    "\n",
    "pct_str=\"\"\n",
    "labels = []\n",
    "for j in DF_BMG.columns:\n",
    "    pct_str=\"\"\n",
    "    for i in DF_BMG.index:\n",
    "        value_str = \"{:<12,}\".format(int(DF_BMG.loc[i][j])) \n",
    "        \n",
    "        if j == 'R':\n",
    "            pct_str = \"{0:.4}%\".format(DF_Bmerge.loc[i]['prate'])\n",
    "        elif j == 'Bbuy':\n",
    "            pct_str = \"{0:.4}%\".format(DF_Bmerge.loc[i]['brate'])\n",
    "       \n",
    "        if pct_str != \"\":\n",
    "            value_str = value_str + \"::\" + pct_str\n",
    "#       label = DF_RCB[i][j] \n",
    "        labels.append(value_str)\n",
    "\n",
    "# print labels\n",
    "\n",
    "patches = ax.patches\n",
    "for label, rect in zip(labels, patches):\n",
    "    width = rect.get_width()\n",
    "    if width > 0:\n",
    "        x = rect.get_x()\n",
    "        y = rect.get_y()\n",
    "        height = rect.get_height()\n",
    "#        csv = \"{:<12,}\".format(int(label))\n",
    "        ax.text(x + width/2., y + height/2., label, ha='center', va='center')\n",
    "\n",
    "\n",
    "fig = ax.get_figure()\n",
    "fig.savefig('Beer Sale:Buy Rate')\n",
    "    "
   ]
  },
  {
   "cell_type": "markdown",
   "metadata": {},
   "source": [
    "#  3. CJ Buy:Sell Rate"
   ]
  },
  {
   "cell_type": "code",
   "execution_count": 47,
   "metadata": {
    "scrolled": true
   },
   "outputs": [
    {
     "data": {
      "text/html": [
       "<div>\n",
       "<style scoped>\n",
       "    .dataframe tbody tr th:only-of-type {\n",
       "        vertical-align: middle;\n",
       "    }\n",
       "\n",
       "    .dataframe tbody tr th {\n",
       "        vertical-align: top;\n",
       "    }\n",
       "\n",
       "    .dataframe thead th {\n",
       "        text-align: right;\n",
       "    }\n",
       "</style>\n",
       "<table border=\"1\" class=\"dataframe\">\n",
       "  <thead>\n",
       "    <tr style=\"text-align: right;\">\n",
       "      <th></th>\n",
       "      <th></th>\n",
       "      <th>CJsales</th>\n",
       "      <th>CJbuy</th>\n",
       "      <th>R</th>\n",
       "      <th>brate</th>\n",
       "      <th>prate</th>\n",
       "    </tr>\n",
       "    <tr>\n",
       "      <th>year</th>\n",
       "      <th>month</th>\n",
       "      <th></th>\n",
       "      <th></th>\n",
       "      <th></th>\n",
       "      <th></th>\n",
       "      <th></th>\n",
       "    </tr>\n",
       "  </thead>\n",
       "  <tbody>\n",
       "    <tr>\n",
       "      <th rowspan=\"6\" valign=\"top\">2017</th>\n",
       "      <th>7</th>\n",
       "      <td>16890571</td>\n",
       "      <td>8474601</td>\n",
       "      <td>8415970</td>\n",
       "      <td>50.173561</td>\n",
       "      <td>49.826439</td>\n",
       "    </tr>\n",
       "    <tr>\n",
       "      <th>8</th>\n",
       "      <td>18277000</td>\n",
       "      <td>7594394</td>\n",
       "      <td>10682606</td>\n",
       "      <td>41.551644</td>\n",
       "      <td>58.448356</td>\n",
       "    </tr>\n",
       "    <tr>\n",
       "      <th>9</th>\n",
       "      <td>13706500</td>\n",
       "      <td>6673702</td>\n",
       "      <td>7032798</td>\n",
       "      <td>48.690052</td>\n",
       "      <td>51.309948</td>\n",
       "    </tr>\n",
       "    <tr>\n",
       "      <th>10</th>\n",
       "      <td>11784200</td>\n",
       "      <td>4974996</td>\n",
       "      <td>6809204</td>\n",
       "      <td>42.217512</td>\n",
       "      <td>57.782488</td>\n",
       "    </tr>\n",
       "    <tr>\n",
       "      <th>11</th>\n",
       "      <td>9869750</td>\n",
       "      <td>4325622</td>\n",
       "      <td>5544128</td>\n",
       "      <td>43.827068</td>\n",
       "      <td>56.172932</td>\n",
       "    </tr>\n",
       "    <tr>\n",
       "      <th>12</th>\n",
       "      <td>10456191</td>\n",
       "      <td>4400016</td>\n",
       "      <td>6056175</td>\n",
       "      <td>42.080486</td>\n",
       "      <td>57.919514</td>\n",
       "    </tr>\n",
       "    <tr>\n",
       "      <th rowspan=\"2\" valign=\"top\">2018</th>\n",
       "      <th>1</th>\n",
       "      <td>12744000</td>\n",
       "      <td>2959125</td>\n",
       "      <td>9784875</td>\n",
       "      <td>23.219750</td>\n",
       "      <td>76.780250</td>\n",
       "    </tr>\n",
       "    <tr>\n",
       "      <th>2</th>\n",
       "      <td>9275636</td>\n",
       "      <td>3821956</td>\n",
       "      <td>5453680</td>\n",
       "      <td>41.204247</td>\n",
       "      <td>58.795753</td>\n",
       "    </tr>\n",
       "  </tbody>\n",
       "</table>\n",
       "</div>"
      ],
      "text/plain": [
       "             CJsales    CJbuy         R      brate      prate\n",
       "year month                                                   \n",
       "2017 7      16890571  8474601   8415970  50.173561  49.826439\n",
       "     8      18277000  7594394  10682606  41.551644  58.448356\n",
       "     9      13706500  6673702   7032798  48.690052  51.309948\n",
       "     10     11784200  4974996   6809204  42.217512  57.782488\n",
       "     11      9869750  4325622   5544128  43.827068  56.172932\n",
       "     12     10456191  4400016   6056175  42.080486  57.919514\n",
       "2018 1      12744000  2959125   9784875  23.219750  76.780250\n",
       "     2       9275636  3821956   5453680  41.204247  58.795753"
      ]
     },
     "execution_count": 47,
     "metadata": {},
     "output_type": "execute_result"
    }
   ],
   "source": [
    "\n",
    "DF_CJmerge = pd.concat([DF_CJsales, DF_CJbuy], axis = 1) \n",
    "\n",
    "#DF_CJmerge.loc[DF_Bmerge['bbuy'].isnull(), 'bbuy'] = 0\n",
    "\n",
    "DF_CJmerge['R'] = DF_CJmerge['CJsales'] - DF_CJmerge['CJbuy']\n",
    "DF_CJmerge['brate'] = DF_CJmerge['CJbuy'] / DF_CJmerge['CJsales'] * 100\n",
    "DF_CJmerge['prate'] = 100- (DF_CJmerge['CJbuy'] / DF_CJmerge['CJsales'] * 100)\n",
    "\n",
    "DF_CJmerge\n",
    "\n",
    "\n"
   ]
  },
  {
   "cell_type": "markdown",
   "metadata": {},
   "source": [
    "###  CJ Sell:Buy Graph"
   ]
  },
  {
   "cell_type": "code",
   "execution_count": 48,
   "metadata": {},
   "outputs": [
    {
     "data": {
      "text/plain": [
       "<matplotlib.figure.Figure at 0x11f939950>"
      ]
     },
     "metadata": {},
     "output_type": "display_data"
    },
    {
     "data": {
      "image/png": "[encoded data removed]",
      "text/plain": [
       "<matplotlib.figure.Figure at 0x11f939a50>"
      ]
     },
     "metadata": {},
     "output_type": "display_data"
    }
   ],
   "source": [
    "\n",
    "plt.figure()\n",
    "DF_CJMG = DF_CJmerge[['R', 'CJbuy']]\n",
    "ax = DF_CJMG.plot.bar(stacked=True, figsize=(18,10), grid=True)\n",
    "\n",
    "ax.set_xlabel('Year and Month')\n",
    "ax.set_ylabel('Total')\n",
    "\n",
    "pct_str=\"\"\n",
    "labels = []\n",
    "for j in DF_CJMG.columns:\n",
    "    pct_str=\"\"\n",
    "    for i in DF_CJMG.index:\n",
    "        value_str = \"{:<12,}\".format(int(DF_CJMG.loc[i][j])) \n",
    "        \n",
    "        if j == 'R':\n",
    "            pct_str = \"{0:.4}%\".format(DF_CJmerge.loc[i]['prate'])\n",
    "        elif j == 'CJbuy':\n",
    "            pct_str = \"{0:.4}%\".format(DF_CJmerge.loc[i]['brate'])\n",
    "       \n",
    "        if pct_str != \"\":\n",
    "            value_str = value_str + \"::\" + pct_str\n",
    "#       label = DF_RCB[i][j] \n",
    "        labels.append(value_str)\n",
    "\n",
    "# print labels\n",
    "\n",
    "patches = ax.patches\n",
    "for label, rect in zip(labels, patches):\n",
    "    width = rect.get_width()\n",
    "    if width > 0:\n",
    "        x = rect.get_x()\n",
    "        y = rect.get_y()\n",
    "        height = rect.get_height()\n",
    "#        csv = \"{:<12,}\".format(int(label))\n",
    "        ax.text(x + width/2., y + height/2., label, ha='center', va='center')\n",
    "\n",
    "\n",
    "fig = ax.get_figure()\n",
    "fig.savefig('CJ Sell:Buy Rate')\n",
    "    "
   ]
  },
  {
   "cell_type": "markdown",
   "metadata": {},
   "source": [
    "# #########"
   ]
  },
  {
   "cell_type": "markdown",
   "metadata": {},
   "source": [
    "# 99. Test Section"
   ]
  },
  {
   "cell_type": "markdown",
   "metadata": {},
   "source": [
    "###  Old Query"
   ]
  },
  {
   "cell_type": "code",
   "execution_count": null,
   "metadata": {
    "scrolled": false
   },
   "outputs": [],
   "source": [
    "from itertools import cycle, islice\n",
    "import numpy as np\n",
    "import matplotlib.pyplot as plt\n",
    "import matplotlib\n",
    "%matplotlib inline\n",
    "\n",
    "ind = np.arange(len(SR_Gtotal))\n",
    "listtotal = SR_Gtotal.values\n",
    "listindex = SR_Gtotal.index\n",
    "\n",
    "plt.rcdefaults()\n",
    "fig, ax = plt.subplots()\n",
    "\n",
    "# Example data\n",
    "people = listindex\n",
    "y_pos = np.arange(len(listindex))\n",
    "performance = listtotal\n",
    "error = np.random.rand(len(listindex))\n",
    "\n",
    "ax.barh(y_pos, performance, 0.6, align='center',\n",
    "        color='green', ecolor='black')\n",
    "\n",
    "for i, v in enumerate(listtotal):\n",
    "    ax.text(v + 3, i + .25, \"{:,}\".format(v), color='green', fontweight='bold')\n",
    "\n",
    "ax.set_yticks(y_pos)\n",
    "ax.set_yticklabels(listindex)\n",
    "ax.set_xticklabels([0,100,200,300,400,500,600,700,800,900,1000], rotation=90)\n",
    "ax.invert_yaxis()  # labels read top-to-bottom\n",
    "ax.set_xlabel(u'Amount')\n",
    "ax.set_title('Grand Total Amount Paid to CJ')\n",
    "\n",
    "plt.show()"
   ]
  },
  {
   "cell_type": "code",
   "execution_count": null,
   "metadata": {},
   "outputs": [],
   "source": [
    "SQL_Result_DF1\n"
   ]
  },
  {
   "cell_type": "code",
   "execution_count": null,
   "metadata": {
    "scrolled": true
   },
   "outputs": [],
   "source": [
    "# SQL_Result_DF_index3 = SQL_Result_DF1.set_index(['sku','pname', 'month'])\n",
    "\n",
    "### GROUP BY 'SKU\"\n",
    "\n",
    "df_grouped = SQL_Result_DF1.groupby(['sku', 'pname'])\n",
    "\n",
    "###\n",
    "\n",
    "print 'Total Number of Groups', df_grouped.ngroups\n",
    "\n",
    "\"\"\"\n",
    "for k, g in df_grouped:\n",
    "    print k[0], k[1],'\\t\\t', \n",
    "    gsum = g['gtotal'].sum()\n",
    "    print 'Group Total', \"{:>12,}\".format(gsum), '원'\n",
    "    print '-'*100\n",
    "\"\"\"\n",
    "    \n",
    "df_grouped_sum =  SQL_Result_DF1.groupby([u'sku', u'pname']).sum()\n",
    "print df_grouped_sum[df_grouped_sum['gtotal']>6000000]\n",
    "print \"2,000,000 ~ 6,000,000\"\n",
    "print df_grouped_sum[(df_grouped_sum['gtotal'] > 2000000) & (df_grouped_sum['gtotal'] <= 6000000) ]\n",
    "print \"1,000,000 ~ 2,000,000\"\n",
    "print df_grouped_sum[(df_grouped_sum['gtotal'] > 1000000) & (df_grouped_sum['gtotal'] <= 2000000) ]\n",
    "#print \"\"\n",
    "#print df_grouped_sum[(df_grouped_sum['gtotal'] > 600000) & (df_grouped_sum['gtotal'] <= 1000000) ]\n",
    "print \"400,000 ~ 1,000,000\"\n",
    "print df_grouped_sum[(df_grouped_sum['gtotal'] > 400000) & (df_grouped_sum['gtotal'] <= 1000000) ]\n",
    "print \"200,000 ~ 400,000\"\n",
    "print df_grouped_sum[(df_grouped_sum['gtotal'] > 200000) & (df_grouped_sum['gtotal'] <= 400000) ]\n",
    "print \"100,000 ~ 200,000\"\n",
    "print df_grouped_sum[(df_grouped_sum['gtotal'] > 100000) & (df_grouped_sum['gtotal'] <= 200000) ]\n",
    "print \"50,000 ~ 100,000\"\n",
    "print df_grouped_sum[(df_grouped_sum['gtotal'] > 50000) & (df_grouped_sum['gtotal'] <= 100000) ]\n",
    "print \"000,000 ~ 50,000\"\n",
    "print df_grouped_sum[(df_grouped_sum['gtotal'] > 0) & (df_grouped_sum['gtotal'] <= 50000) ]\n",
    "\n",
    "\n",
    "\n",
    "# print df_grouped_sum[['gtotal','tqty']].sort_values('gtotal', ascending=False)\n",
    "\n",
    "\n"
   ]
  },
  {
   "cell_type": "code",
   "execution_count": null,
   "metadata": {
    "scrolled": false
   },
   "outputs": [],
   "source": [
    "SQL_Result_DF1.set_index(['sku', 'pname', 'month'])[:15].unstack(level=-1)"
   ]
  },
  {
   "cell_type": "markdown",
   "metadata": {},
   "source": [
    "## Font in Plot "
   ]
  },
  {
   "cell_type": "code",
   "execution_count": null,
   "metadata": {
    "scrolled": true
   },
   "outputs": [],
   "source": [
    "matplotlib.matplotlib_fname()"
   ]
  },
  {
   "cell_type": "code",
   "execution_count": null,
   "metadata": {
    "scrolled": true
   },
   "outputs": [],
   "source": [
    "import matplotlib.font_manager as fm\n",
    "fm.get_fontconfig_fonts()"
   ]
  },
  {
   "cell_type": "code",
   "execution_count": null,
   "metadata": {
    "scrolled": false
   },
   "outputs": [],
   "source": [
    "SQL_Result_DF1.set_index(['sku', 'pname', 'month'])[:15].unstack(level=-1).plot(kind='bar', stacked=False)\n",
    "plt.rcParams[\"font.family\"] = 'AppleMyungjo'\n",
    "plt.rcParams['font.size'] = 8\n",
    "plt.title(u'품목별 월별 매출현황' )\n",
    "plt.show()"
   ]
  },
  {
   "cell_type": "markdown",
   "metadata": {},
   "source": [
    "### Truncate unicode string with Unicode utf-8 "
   ]
  },
  {
   "cell_type": "code",
   "execution_count": null,
   "metadata": {},
   "outputs": [],
   "source": [
    "print tuple[1]\n",
    "def unicode_truncate(s, length, encoding='utf-8'):\n",
    "    encoded = s.encode(encoding)[:length]\n",
    "    return encoded.decode(encoding, 'ignore')\n",
    "print unicode_truncate(tuple[1], 60)"
   ]
  },
  {
   "cell_type": "markdown",
   "metadata": {},
   "source": [
    "### tuple insertion"
   ]
  },
  {
   "cell_type": "code",
   "execution_count": null,
   "metadata": {},
   "outputs": [],
   "source": [
    " t1 = ( (1, 'p100', 'JUL', 20), (1, 'p100', 'AUG', 30),\n",
    "        (2, 'p200', 'JUL', 10), (2, 'p200', 'AUG', 40), (2, 'p200', 'SEP', 50),\n",
    "        (3, 'p300', 'JUL', 40),\n",
    "        (4, 'p400', 'JUL', 10), (4, 'p400', 'AUG', 20), (4, 'p400', 'SEP', 40), (4, 'p400', 'OCT', 60)\n",
    "      )"
   ]
  },
  {
   "cell_type": "code",
   "execution_count": null,
   "metadata": {
    "scrolled": true
   },
   "outputs": [],
   "source": [
    "t1"
   ]
  },
  {
   "cell_type": "markdown",
   "metadata": {},
   "source": [
    "### DataFrame from dictionary"
   ]
  },
  {
   "cell_type": "code",
   "execution_count": null,
   "metadata": {
    "scrolled": true
   },
   "outputs": [],
   "source": [
    "from pandas import Series, DataFrame\n",
    "import numpy as np\n",
    "\n",
    "\n",
    "dict1 = {'JUL':[10,20,30,40],\n",
    "         'AUG':[11,21,31,41],\n",
    "         'SEP':[12,22,32,42],\n",
    "         'OCT':[13,23,33,43]\n",
    "        }\n",
    "df1 = DataFrame(dict1, columns=['JUL', 'AUG', 'SEP', 'OCT'], index=['p1','p2', 'p3','p4'])\n",
    "df1"
   ]
  },
  {
   "cell_type": "markdown",
   "metadata": {},
   "source": [
    "### new row insertion with dict form into DataFrame "
   ]
  },
  {
   "cell_type": "code",
   "execution_count": null,
   "metadata": {
    "scrolled": true
   },
   "outputs": [],
   "source": [
    "df1.loc['p4'] = {'JUL':14, 'AUG':24, 'SEP':34, 'OCT':44}\n",
    "df1"
   ]
  },
  {
   "cell_type": "code",
   "execution_count": null,
   "metadata": {
    "scrolled": false
   },
   "outputs": [],
   "source": [
    "df1.loc['p5'] = [50, 51, 52, 53]\n",
    "df1"
   ]
  },
  {
   "cell_type": "markdown",
   "metadata": {},
   "source": [
    "###  Test Unstack"
   ]
  },
  {
   "cell_type": "code",
   "execution_count": null,
   "metadata": {
    "scrolled": true
   },
   "outputs": [],
   "source": [
    "df1.unstack(level=0)"
   ]
  },
  {
   "cell_type": "code",
   "execution_count": null,
   "metadata": {},
   "outputs": [],
   "source": [
    "index = pd.MultiIndex.from_tuples([('one', 'a'), ('one', 'b'),\n",
    "                                   ('two', 'a'), ('two', 'b')])\n",
    "s1 = Series(np.arange(1.0, 5.0), index=index)\n"
   ]
  },
  {
   "cell_type": "code",
   "execution_count": null,
   "metadata": {
    "scrolled": true
   },
   "outputs": [],
   "source": [
    "s1"
   ]
  },
  {
   "cell_type": "code",
   "execution_count": null,
   "metadata": {
    "scrolled": true
   },
   "outputs": [],
   "source": [
    "s.unstack(level=-1)"
   ]
  },
  {
   "cell_type": "markdown",
   "metadata": {},
   "source": [
    "###  DataFrame with unstackI()"
   ]
  },
  {
   "cell_type": "code",
   "execution_count": null,
   "metadata": {},
   "outputs": [],
   "source": [
    "dfmi = DataFrame(dict1, columns=['JUL', 'AUG', 'SEP', 'OCT'], index=index)\n",
    "dfmi"
   ]
  },
  {
   "cell_type": "code",
   "execution_count": null,
   "metadata": {},
   "outputs": [],
   "source": [
    "dfmi.unstack(level=-1)"
   ]
  },
  {
   "cell_type": "code",
   "execution_count": null,
   "metadata": {
    "scrolled": true
   },
   "outputs": [],
   "source": [
    "dfmi.unstack(level=0)"
   ]
  },
  {
   "cell_type": "code",
   "execution_count": null,
   "metadata": {},
   "outputs": [],
   "source": [
    "dfmi.unstack(level=0).plot(kind='bar', stacked=True)"
   ]
  },
  {
   "cell_type": "code",
   "execution_count": null,
   "metadata": {},
   "outputs": [],
   "source": [
    "dfmi.unstack(level=-2)"
   ]
  },
  {
   "cell_type": "markdown",
   "metadata": {},
   "source": [
    "### Condition check of tuples and Make a dict from tuple elements"
   ]
  },
  {
   "cell_type": "code",
   "execution_count": null,
   "metadata": {
    "scrolled": true
   },
   "outputs": [],
   "source": [
    "t1"
   ]
  },
  {
   "cell_type": "code",
   "execution_count": null,
   "metadata": {
    "scrolled": false
   },
   "outputs": [],
   "source": [
    "colarray = ['JUL', 'AUG', 'SEP', 'OCT']\n",
    "\n",
    "prev = None\n",
    "new_d = {'JUL':None, 'AUG':None, 'SEP':None, 'OCT':None}\n",
    "dfdic = DataFrame(None, columns=colarray)\n",
    "for t in t1:    \n",
    "    if prev != t[0] and prev != None:\n",
    "        print new_d\n",
    "        dfdic.loc[t[1]] = new_d\n",
    "        new_d = {'JUL':None, 'AUG':None, 'SEP':None, 'OCT':None}\n",
    "        \n",
    "    new_d[t[2]]= t[3]\n",
    "    prev = t[0]\n",
    "print new_d"
   ]
  },
  {
   "cell_type": "code",
   "execution_count": null,
   "metadata": {},
   "outputs": [],
   "source": [
    "dfdic"
   ]
  },
  {
   "cell_type": "code",
   "execution_count": null,
   "metadata": {
    "scrolled": true
   },
   "outputs": [],
   "source": [
    "df1.loc['p100'] = [None, None, None, None]\n",
    "df1.loc['p100']['JUL'] = 299\n",
    "\n",
    "df1\n"
   ]
  },
  {
   "cell_type": "markdown",
   "metadata": {},
   "source": [
    "### SQL result to DataFrame in SQLite3"
   ]
  },
  {
   "cell_type": "code",
   "execution_count": null,
   "metadata": {
    "scrolled": true
   },
   "outputs": [],
   "source": [
    "myFrame = pd.read_sql_query(sql_cmd, conn)"
   ]
  },
  {
   "cell_type": "code",
   "execution_count": null,
   "metadata": {
    "scrolled": true
   },
   "outputs": [],
   "source": [
    "myFrame"
   ]
  },
  {
   "cell_type": "code",
   "execution_count": null,
   "metadata": {
    "scrolled": false
   },
   "outputs": [],
   "source": [
    "myFrame_T = myFrame.set_index(['sku','pname','month'])"
   ]
  },
  {
   "cell_type": "code",
   "execution_count": null,
   "metadata": {
    "scrolled": true
   },
   "outputs": [],
   "source": [
    "myFrame_T"
   ]
  },
  {
   "cell_type": "code",
   "execution_count": null,
   "metadata": {},
   "outputs": [],
   "source": [
    "myFrame_T.loc[u'백설 바삭튀김가루(1Kg/EA) 미국-※미국산']"
   ]
  },
  {
   "cell_type": "code",
   "execution_count": null,
   "metadata": {},
   "outputs": [],
   "source": [
    "myFrame_T[myFrame_T['sku'] == '100353']"
   ]
  }
 ],
 "metadata": {
  "kernelspec": {
   "display_name": "Python 2",
   "language": "python",
   "name": "python2"
  },
  "language_info": {
   "codemirror_mode": {
    "name": "ipython",
    "version": 2
   },
   "file_extension": ".py",
   "mimetype": "text/x-python",
   "name": "python",
   "nbconvert_exporter": "python",
   "pygments_lexer": "ipython2",
   "version": "2.7.14"
  }
 },
 "nbformat": 4,
 "nbformat_minor": 2
}
