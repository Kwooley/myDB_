{
 "cells": [
  {
   "cell_type": "markdown",
   "metadata": {},
   "source": [
    "# Make SQL Insert Statement "
   ]
  },
  {
   "cell_type": "markdown",
   "metadata": {},
   "source": [
    "## from Excel file to SQL statements"
   ]
  },
  {
   "cell_type": "code",
   "execution_count": 1,
   "metadata": {
    "collapsed": true
   },
   "outputs": [],
   "source": [
    "from openpyxl import Workbook\n",
    "from openpyxl.compat import range\n",
    "from openpyxl.utils import get_column_letter\n",
    "from openpyxl import load_workbook\n",
    "from openpyxl import Workbook"
   ]
  },
  {
   "cell_type": "code",
   "execution_count": 4,
   "metadata": {
    "scrolled": true
   },
   "outputs": [
    {
     "name": "stdout",
     "output_type": "stream",
     "text": [
      "19\n",
      "21\n",
      "15\n"
     ]
    }
   ],
   "source": [
    "print ord('T') - ord('A')\n",
    "print ord('V') - ord('A')\n",
    "print ord('P') - ord('A')"
   ]
  },
  {
   "cell_type": "markdown",
   "metadata": {},
   "source": [
    "### Function splitdate\n",
    "##### split 2017-10-31 string into 2017, 10, 31"
   ]
  },
  {
   "cell_type": "code",
   "execution_count": 2,
   "metadata": {
    "collapsed": true
   },
   "outputs": [],
   "source": [
    "def splitdate(orderdatestring):\n",
    "    ody,odm, odd = orderdatestring.split('-')\n",
    "    return({'year':ody, 'month':odm, 'date':odd})\n",
    "    "
   ]
  },
  {
   "cell_type": "markdown",
   "metadata": {},
   "source": [
    "### Find Order row and make Insert stmt"
   ]
  },
  {
   "cell_type": "code",
   "execution_count": 27,
   "metadata": {
    "scrolled": true
   },
   "outputs": [
    {
     "name": "stdout",
     "output_type": "stream",
     "text": [
      "583\n",
      "{'date': u'02', 'month': u'10', 'year': u'2017'}\n",
      "Order count 19\n",
      "{'date': u'03', 'month': u'10', 'year': u'2017'}\n",
      "Order count 1\n",
      "{'date': u'07', 'month': u'10', 'year': u'2017'}\n",
      "Order count 7\n",
      "{'date': u'09', 'month': u'10', 'year': u'2017'}\n",
      "Order count 8\n",
      "{'date': u'10', 'month': u'10', 'year': u'2017'}\n",
      "Order count 4\n",
      "{'date': u'11', 'month': u'10', 'year': u'2017'}\n",
      "Order count 2\n",
      "{'date': u'12', 'month': u'10', 'year': u'2017'}\n",
      "Order count 2\n",
      "{'date': u'14', 'month': u'10', 'year': u'2017'}\n",
      "Order count 9\n",
      "{'date': u'16', 'month': u'10', 'year': u'2017'}\n",
      "Order count 8\n",
      "{'date': u'17', 'month': u'10', 'year': u'2017'}\n",
      "Order count 5\n",
      "{'date': u'18', 'month': u'10', 'year': u'2017'}\n",
      "Order count 1\n",
      "{'date': u'19', 'month': u'10', 'year': u'2017'}\n",
      "Order count 7\n",
      "{'date': u'20', 'month': u'10', 'year': u'2017'}\n",
      "Order count 6\n",
      "{'date': u'21', 'month': u'10', 'year': u'2017'}\n",
      "Order count 5\n",
      "{'date': u'23', 'month': u'10', 'year': u'2017'}\n",
      "Order count 7\n",
      "{'date': u'24', 'month': u'10', 'year': u'2017'}\n",
      "Order count 1\n",
      "{'date': u'25', 'month': u'10', 'year': u'2017'}\n",
      "Order count 4\n",
      "{'date': u'26', 'month': u'10', 'year': u'2017'}\n",
      "Order count 3\n",
      "{'date': u'27', 'month': u'10', 'year': u'2017'}\n",
      "Order count 4\n",
      "{'date': u'28', 'month': u'10', 'year': u'2017'}\n",
      "Order count 4\n",
      "{'date': u'30', 'month': u'10', 'year': u'2017'}\n",
      "Order count 10\n",
      "{'date': u'31', 'month': u'10', 'year': u'2017'}\n",
      "Order count 3\n"
     ]
    }
   ],
   "source": [
    "wb = load_workbook(filename = '20171101232109074.xlsx')\n",
    "ws = wb.active\n",
    "\n",
    "num_rows = ws.max_row\n",
    "#num_rows = 70\n",
    "print num_rows\n",
    "\n",
    "f = open(\"2017OCT.sql\", 'w')\n",
    "\n",
    "\n",
    "prev_val = None\n",
    "stmt_flag = False\n",
    "order_cnt = 0\n",
    "for row in ws.iter_rows(min_row=1, max_col=24, max_row=num_rows):\n",
    "    sql_stmt = None\n",
    "    sql_stmt_u = None\n",
    "            \n",
    "    # Find the row that contains the YMD\n",
    "    if (unicode(row[0].value) == u'차량번호 :'):\n",
    "        YMD_string_org = unicode(row[15].value)\n",
    "        YMD_string = YMD_string_org[7:]\n",
    "        odate_dic = splitdate(YMD_string)\n",
    "        print odate_dic\n",
    "        \n",
    "    # Find the 1st Row \n",
    "    if (row[0].value == 1) and ( prev_val == 'No.'):\n",
    "        stmt_flag = True\n",
    "    if (stmt_flag):\n",
    "        # Find the Last Row\n",
    "        if (unicode(prev_val).isdigit() == True ) and (unicode(row[0].value).isdigit() == False):\n",
    "            stmt_flag = False\n",
    "            print 'Order count', order_cnt\n",
    "            order_cnt = 0\n",
    "        else:\n",
    "            order_cnt += 1\n",
    "            # 0 : iD / 1: OrderNO / 2: SKU / 5: pname / 14: metric / 16:qty / 18:price / 19:amount / 21:tax / 23:total\n",
    "            tuple_dict = {'year':odate_dic['year'],\n",
    "                          'month':odate_dic['month'],\n",
    "                          'day':odate_dic['date'],\n",
    "                          'YMD':YMD_string,\n",
    "                          'dno':row[0].value,\n",
    "                          'orderno':row[1].value,\n",
    "                          'sku':row[2].value,\n",
    "                          'pname':unicode(row[5].value).replace('\\n','-'),\n",
    "                          'metric':row[14].value, \n",
    "                          'qty':row[16].value,\n",
    "                          'price':row[18].value,\n",
    "                          'amount':row[19].value,\n",
    "                          'tax':row[21].value,\n",
    "                          'total':row[23].value\n",
    "                         }\n",
    "            \n",
    "            sql_stmt = u'Insert into Order789Gsheet values '\n",
    "            sql_stmt += '('\n",
    "            sql_stmt += str(tuple_dict['year'])+','\n",
    "            sql_stmt += str(tuple_dict['month'])+','\n",
    "            sql_stmt += str(tuple_dict['day'])+','\n",
    "            sql_stmt += '\\'' + tuple_dict['YMD'] + '\\','\n",
    "            sql_stmt += str(tuple_dict['dno'])+','\n",
    "            sql_stmt += str(tuple_dict['orderno'])+','\n",
    "            sql_stmt += str(tuple_dict['sku'])+','\n",
    "            sql_stmt += '\\'' + tuple_dict['pname'] + '\\','\n",
    "            sql_stmt += '\\'' + tuple_dict['metric'] + '\\','\n",
    "            sql_stmt += str(tuple_dict['qty'])+','\n",
    "            sql_stmt += str(tuple_dict['price'])+','\n",
    "            sql_stmt += str(tuple_dict['amount'])+','\n",
    "            sql_stmt += str(tuple_dict['tax'])+','\n",
    "            sql_stmt += str(tuple_dict['total'])\n",
    "            sql_stmt += ');\\n'\n",
    "\n",
    "            #print sql_stmt\n",
    "            #print ''\n",
    "            # f.write(sql_stmt_r.replace(u'\\ufeff','').encode(\"utf-16\"))\n",
    "            \n",
    "            f.write(sql_stmt.encode('utf-8'))\n",
    "            \n",
    "                \n",
    "    prev_val = row[0].value\n",
    "\n",
    "f.close()\n",
    "\n"
   ]
  },
  {
   "cell_type": "code",
   "execution_count": 4,
   "metadata": {
    "collapsed": true
   },
   "outputs": [],
   "source": [
    "fb = open('ftest.sql', 'w')\n",
    "\n",
    "string = u'한글문장'\n",
    "\n",
    "ustring = string.encode(\"utf-16\")\n",
    "fb.write(ustring)\n",
    "\n",
    "fb.close()\n"
   ]
  },
  {
   "cell_type": "code",
   "execution_count": null,
   "metadata": {
    "collapsed": true
   },
   "outputs": [],
   "source": []
  },
  {
   "cell_type": "code",
   "execution_count": null,
   "metadata": {
    "collapsed": true
   },
   "outputs": [],
   "source": []
  },
  {
   "cell_type": "code",
   "execution_count": null,
   "metadata": {
    "collapsed": true
   },
   "outputs": [],
   "source": []
  }
 ],
 "metadata": {
  "kernelspec": {
   "display_name": "Python 2",
   "language": "python",
   "name": "python2"
  },
  "language_info": {
   "codemirror_mode": {
    "name": "ipython",
    "version": 2
   },
   "file_extension": ".py",
   "mimetype": "text/x-python",
   "name": "python",
   "nbconvert_exporter": "python",
   "pygments_lexer": "ipython2",
   "version": "2.7.13"
  }
 },
 "nbformat": 4,
 "nbformat_minor": 2
}
